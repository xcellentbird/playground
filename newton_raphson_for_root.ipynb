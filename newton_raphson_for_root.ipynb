{
  "nbformat": 4,
  "nbformat_minor": 0,
  "metadata": {
    "colab": {
      "provenance": [],
      "authorship_tag": "ABX9TyOITefLukqRYMsZbnd5Y0Ia",
      "include_colab_link": true
    },
    "kernelspec": {
      "name": "python3",
      "display_name": "Python 3"
    },
    "language_info": {
      "name": "python"
    }
  },
  "cells": [
    {
      "cell_type": "markdown",
      "metadata": {
        "id": "view-in-github",
        "colab_type": "text"
      },
      "source": [
        "<a href=\"https://colab.research.google.com/github/xcellentbird/playground/blob/main/newton_raphson_for_root.ipynb\" target=\"_parent\"><img src=\"https://colab.research.google.com/assets/colab-badge.svg\" alt=\"Open In Colab\"/></a>"
      ]
    },
    {
      "cell_type": "markdown",
      "source": [
        "뉴턴-랩슨 방법을 이용한 n제곱근 계산 알고리즘 구현 및 테스트\n",
        "\n",
        "참고:\n",
        "- https://darkpgmr.tistory.com/58\n",
        "- https://en.wikipedia.org/wiki/Nth_root#Using_Newton's_method"
      ],
      "metadata": {
        "id": "YVCdMbx2b9Gg"
      }
    },
    {
      "cell_type": "code",
      "execution_count": 37,
      "metadata": {
        "id": "HAcY2YIlF25E"
      },
      "outputs": [],
      "source": [
        "class NewtonRaphsonRoot:\n",
        "    \"\"\"\n",
        "    뉴턴-랩슨 방법을 사용하여 n 제곱근을 계산하는 클래스\n",
        "    f(x) = x^n - base = 0 을 만족하는 근사값 x를 찾는다.\n",
        "    \"\"\"\n",
        "    def __init__(self, tol=0.0001):\n",
        "        self.tol = tol\n",
        "\n",
        "        self.i = -1\n",
        "        self._estimate_history = []\n",
        "\n",
        "    def is_converged(self, prev_x, new_x):\n",
        "        \"\"\"\n",
        "        x의 수렴 여부를 확인한다.\n",
        "        \"\"\"\n",
        "        return abs(new_x - prev_x) <= self.tol\n",
        "\n",
        "    def newton_update(self, base, n, x):\n",
        "        \"\"\"\n",
        "        뉴턴-랩슨 방법의 재귀 관계식.\n",
        "\n",
        "        f(x) = x^n - base = 0\n",
        "        f'(x) = n * x^(n-1)\n",
        "        x_k+1 = x_k - f(x_k) / f'(x_k)\n",
        "        \"\"\"\n",
        "        return ((n-1) * x + base / x ** (n-1)) / n\n",
        "\n",
        "    def estimate(self, base, n, x):\n",
        "        \"\"\"\n",
        "        뉴턴-랩슨 방법의 재귀 관계식을 사용하여 근사값 x를 찾는다.\n",
        "        \"\"\"\n",
        "        self.i += 1\n",
        "\n",
        "        new_x = self.newton_update(base, n, x)\n",
        "        self._estimate_history.append(new_x)\n",
        "        print(f\"Update x{self.i-1} to x{self.i} | {x} -> {new_x}\")\n",
        "\n",
        "        if self.is_converged(x, new_x):\n",
        "            print(f\"Converged | x≈{x}, iter={self.i}, Δ={abs(new_x - x)}\")\n",
        "            return x\n",
        "\n",
        "        else:\n",
        "            return self.estimate(base, n, new_x)\n",
        "\n",
        "    def compute_nth_root(self, base: float, n: int, init_x: float) -> float:\n",
        "        \"\"\"\n",
        "        n 제곱근을 계산한다.\n",
        "\n",
        "        Args:\n",
        "            base: float\n",
        "                원래 값\n",
        "            n: int\n",
        "                제곱근의 지수\n",
        "            init_x: float\n",
        "                초기 x 값\n",
        "\n",
        "        Returns:\n",
        "            float\n",
        "                근사값 x\n",
        "        \"\"\"\n",
        "        self._i = 0\n",
        "        self._estimate_history = [init_x]\n",
        "\n",
        "        return self.estimate(base, n, init_x)\n",
        ""
      ]
    },
    {
      "cell_type": "code",
      "source": [
        "import time\n",
        "\n",
        "\n",
        "BASE = 5\n",
        "N_ROOT = 3\n",
        "INIT_X = 20\n",
        "\n",
        "TOL = 0.000001\n",
        "\n",
        "\n",
        "newton_raphson = NewtonRaphsonRoot(tol=TOL)\n",
        "\n",
        "start = time.time()\n",
        "my_result = newton_raphson.compute_nth_root(BASE, N_ROOT, INIT_X)\n",
        "elapsed = time.time() - start\n",
        "\n",
        "print(f\"result: {my_result}, elapsed: {elapsed :.10f}\")"
      ],
      "metadata": {
        "colab": {
          "base_uri": "https://localhost:8080/"
        },
        "id": "fyTIouOiGAia",
        "outputId": "e3b14033-993b-4a66-86e7-e42391b8dabe"
      },
      "execution_count": 38,
      "outputs": [
        {
          "output_type": "stream",
          "name": "stdout",
          "text": [
            "Update x-1 to x0 | 20 -> 13.3375\n",
            "Update x0 to x1 | 13.3375 -> 8.901035810037106\n",
            "Update x1 to x2 | 8.901035810037106 -> 5.955060090888019\n",
            "Update x2 to x3 | 5.955060090888019 -> 4.017037744200842\n",
            "Update x3 to x4 | 4.017037744200842 -> 2.7813100845517176\n",
            "Update x4 to x5 | 2.7813100845517176 -> 2.0696584247556813\n",
            "Update x5 to x6 | 2.0696584247556813 -> 1.7688634739783673\n",
            "Update x6 to x7 | 1.7688634739783673 -> 1.7119146260660199\n",
            "Update x7 to x8 | 1.7119146260660199 -> 1.7099781413299457\n",
            "Update x8 to x9 | 1.7099781413299457 -> 1.7099759466795137\n",
            "Update x9 to x10 | 1.7099759466795137 -> 1.709975946676697\n",
            "Converged | x≈1.7099759466795137, iter=10, Δ=2.816635813474022e-12\n",
            "result: 1.7099759466795137, elapsed: 0.0011057854\n"
          ]
        }
      ]
    },
    {
      "cell_type": "code",
      "source": [
        "from matplotlib import pyplot as plt\n",
        "import numpy as np\n",
        "\n",
        "\n",
        "# draw guide line\n",
        "xs = np.linspace(0.01, 22, 1000)\n",
        "ys = [np.power(x, N_ROOT) for x in xs]\n",
        "plt.plot(xs, ys)\n",
        "\n",
        "# target point\n",
        "target_x = np.power(BASE, 1/N_ROOT)\n",
        "target_y = BASE\n",
        "plt.plot(target_x, target_y, 'ro')\n",
        "\n",
        "# draw history points\n",
        "x_history = newton_raphson._estimate_history\n",
        "y_history = [np.power(x, N_ROOT) for x in x_history]\n",
        "plt.plot(x_history, y_history, 'ko-', markersize=2, linewidth=0.5)\n",
        "\n",
        "# draw tangent line at (x_history, y_history)\n",
        "# draw vertical line at (x_history, 0)\n",
        "for i in range(len(x_history)):\n",
        "    x_i = x_history[i]\n",
        "    y_i = y_history[i]\n",
        "    w = np.power(x_i, N_ROOT - 1) * N_ROOT\n",
        "    line_ys = [y_i + (x - x_i) * w for x in xs]\n",
        "    plt.plot(xs, line_ys, 'k--', linewidth=0.2)\n",
        "    plt.plot([x_i, x_i], [0, y_i], 'k--', linewidth=0.5)\n",
        "\n",
        "plt.legend([f'$x^{N_ROOT}$', f'$x_k^{N_ROOT}$', f'target point'])\n",
        "plt.ylim(-200, 10000)\n",
        "\n",
        "plt.show()"
      ],
      "metadata": {
        "colab": {
          "base_uri": "https://localhost:8080/",
          "height": 435
        },
        "id": "ubKCGgPCGfr9",
        "outputId": "444da35b-5234-4d7a-dc61-63cf8059007d"
      },
      "execution_count": 39,
      "outputs": [
        {
          "output_type": "display_data",
          "data": {
            "text/plain": [
              "<Figure size 640x480 with 1 Axes>"
            ],
            "image/png": "[encoded data removed]"
          },
          "metadata": {}
        }
      ]
    },
    {
      "cell_type": "code",
      "source": [
        "import math\n",
        "\n",
        "print(f\"my | result: {my_result}, elapsed: {elapsed :.10f}\")\n",
        "\n",
        "start = time.time()\n",
        "np_result = np.power(BASE, 1/2)\n",
        "np_elapsed = time.time() - start\n",
        "\n",
        "print(f\"numpy | result: {np_result}, elapsed: {np_elapsed :.10f}\")\n",
        "\n",
        "start = time.time()\n",
        "math_result = math.pow(BASE, 1/2)\n",
        "math_elapsed = time.time() - start\n",
        "\n",
        "print(f\"math | result: {math_result}, elapsed: {math_elapsed :.10f}\")\n",
        "\n",
        "start = time.time()\n",
        "base_result = BASE ** (1/2)\n",
        "base_elapsed = time.time() - start\n",
        "\n",
        "print(f\"base | result: {base_result}, elapsed: {base_elapsed :.10f}\")"
      ],
      "metadata": {
        "colab": {
          "base_uri": "https://localhost:8080/"
        },
        "id": "qmwddzW0GsiI",
        "outputId": "70f653ce-c145-4bf0-a045-c187cc80edc9"
      },
      "execution_count": 50,
      "outputs": [
        {
          "output_type": "stream",
          "name": "stdout",
          "text": [
            "my | result: 1.7099759466795137, elapsed: 0.0011057854\n",
            "numpy | result: 2.23606797749979, elapsed: 0.0001349449\n",
            "math | result: 2.23606797749979, elapsed: 0.0000622272\n",
            "base | result: 2.23606797749979, elapsed: 0.0001142025\n"
          ]
        }
      ]
    },
    {
      "cell_type": "code",
      "source": [
        "abs(my_result - base_result)"
      ],
      "metadata": {
        "colab": {
          "base_uri": "https://localhost:8080/"
        },
        "id": "zc9bfPMLHJGR",
        "outputId": "57fddbdf-bc51-4268-9697-6fb026642c09"
      },
      "execution_count": 41,
      "outputs": [
        {
          "output_type": "execute_result",
          "data": {
            "text/plain": [
              "2.816857858078947e-12"
            ]
          },
          "metadata": {},
          "execution_count": 41
        }
      ]
    },
    {
      "cell_type": "markdown",
      "source": [
        "# Review\n",
        "- 수렴 허용오차(tol)를 적게 설정해서 정확도를 높일 수록, 역시 x가 더 많이 업데이트된다.\n",
        "- 또한 초기 설정값(init_x)에 업데이트 횟수가 달라진다.\n",
        "- 제곱근을 구할 때는 `**`, `math.pow`, `numpy.power` 순으로 빠르다. 또한, 초기값이 매번 다르게 설정해서 그런지, 실행할 때마다 계산 시간이 다르다. FastInvSqrt 알고리즘이 적용되어있는지 확인하기 위해 `N_ROOT`를 2로 바꿔보아도 계산 속도가 크게 달라지지 않는다."
      ],
      "metadata": {
        "id": "sU_TT1J1YUIq"
      }
    },
    {
      "cell_type": "markdown",
      "source": [
        "더 훝어보기\n",
        "- Fast InvSqrt: https://ko.wikipedia.org/wiki/%EA%B3%A0%EC%86%8D_%EC%97%AD_%EC%A0%9C%EA%B3%B1%EA%B7%BC\n",
        "    - 1/sqrt(x)를 계산하는 알고리즘\n",
        "    - 뉴턴-랩슨 1 iter만 돌아서 작동한다고 한다."
      ],
      "metadata": {
        "id": "LrWjw3XnczLM"
      }
    },
    {
      "cell_type": "code",
      "source": [],
      "metadata": {
        "id": "-wXRfElGdNPg"
      },
      "execution_count": null,
      "outputs": []
    }
  ]
}