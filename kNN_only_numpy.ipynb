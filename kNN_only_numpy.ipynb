{
  "nbformat": 4,
  "nbformat_minor": 0,
  "metadata": {
    "colab": {
      "provenance": [],
      "authorship_tag": "ABX9TyNUOp+oNdiPyf6C7NofqgIg",
      "include_colab_link": true
    },
    "kernelspec": {
      "name": "python3",
      "display_name": "Python 3"
    },
    "language_info": {
      "name": "python"
    }
  },
  "cells": [
    {
      "cell_type": "markdown",
      "metadata": {
        "id": "view-in-github",
        "colab_type": "text"
      },
      "source": [
        "<a href=\"https://colab.research.google.com/github/xcellentbird/playground/blob/main/kNN_only_numpy.ipynb\" target=\"_parent\"><img src=\"https://colab.research.google.com/assets/colab-badge.svg\" alt=\"Open In Colab\"/></a>"
      ]
    },
    {
      "cell_type": "code",
      "source": [
        "import numpy as np"
      ],
      "metadata": {
        "id": "eWjxlYkD9O54"
      },
      "execution_count": 1,
      "outputs": []
    },
    {
      "cell_type": "code",
      "source": [
        "from queue import PriorityQueue\n",
        "\n",
        "\n",
        "pq = PriorityQueue(maxsize=3)"
      ],
      "metadata": {
        "id": "-hozh9_a9Sw_"
      },
      "execution_count": 36,
      "outputs": []
    },
    {
      "cell_type": "code",
      "source": [
        "pq.put((5, 'a'))\n",
        "pq.put((1, 'b'))\n",
        "pq.put((3, 'c'))"
      ],
      "metadata": {
        "id": "ccr96NdhET3Q"
      },
      "execution_count": 37,
      "outputs": []
    },
    {
      "cell_type": "code",
      "source": [
        "pq.full()"
      ],
      "metadata": {
        "colab": {
          "base_uri": "https://localhost:8080/"
        },
        "id": "ycBOXmzoEj-F",
        "outputId": "3bcf6a7e-3a1c-4419-a0d1-9a4989728127"
      },
      "execution_count": 38,
      "outputs": [
        {
          "output_type": "execute_result",
          "data": {
            "text/plain": [
              "True"
            ]
          },
          "metadata": {},
          "execution_count": 38
        }
      ]
    },
    {
      "cell_type": "code",
      "execution_count": 144,
      "metadata": {
        "id": "ScBpPs1H7i1S"
      },
      "outputs": [],
      "source": [
        "from collections import defaultdict\n",
        "\n",
        "\n",
        "class SimpleKNNClassifier:\n",
        "    \"\"\"\n",
        "    (1) 학습 단계: 단순히 학습 데이터를 저장하고\n",
        "    (2) 예측 단계: 유클리드 거리를 이용해 가장 가까운 k개의 이웃을 찾아\n",
        "        다수결(majority vote)로 클래스를 결정하는 매우 단순한 kNN 분류기.\n",
        "\n",
        "    Parameters\n",
        "    ----------\n",
        "    n_neighbors : int, default=3\n",
        "        사용할 이웃의 수(k). 1 이상이어야 함.\n",
        "    \"\"\"\n",
        "\n",
        "    def __init__(self, n_neighbors: int = 3) -> None:\n",
        "        if n_neighbors < 1:\n",
        "            raise ValueError(\"n_neighbors는 1 이상이어야 합니다.\")\n",
        "        self.k = n_neighbors\n",
        "        self._fitted = False  # fit() 호출 여부 플래그\n",
        "\n",
        "    # --------------------------------------------------------------------- #\n",
        "    # 학습 단계\n",
        "    # --------------------------------------------------------------------- #\n",
        "    def fit(self, X, y):\n",
        "        \"\"\"\n",
        "        학습 데이터를 그대로 저장(lazy learning).\n",
        "        실질적인 '모델 파라미터 추정'은 없으며, 예측 시점에 거리 계산을 수행합니다.\n",
        "\n",
        "        Parameters\n",
        "        ----------\n",
        "        X : array-like, shape (n_samples, n_features)\n",
        "            학습 특성 배열\n",
        "        y : array-like, shape (n_samples,)\n",
        "            각 샘플의 레이블(정수, 문자열 등)\n",
        "\n",
        "        Returns\n",
        "        -------\n",
        "        self  : 객체 자신 (method chaining을 위해)\n",
        "        \"\"\"\n",
        "        # numpy 배열로 변환\n",
        "        X = np.asarray(X)\n",
        "        y = np.asarray(y)\n",
        "\n",
        "        # 간단한 유효성 점검\n",
        "        if X.ndim != 2:\n",
        "            raise ValueError(\"X는 (n_samples, n_features) 형태의 2차원 배열이어야 합니다.\")\n",
        "        if X.shape[0] != y.shape[0]:\n",
        "            raise ValueError(\"X와 y의 샘플 수가 일치하지 않습니다.\")\n",
        "\n",
        "        # 내부 저장\n",
        "        self.X_train_ = X\n",
        "        self.y_train_ = y\n",
        "        self._fitted = True\n",
        "        # self._x_train2 = (self.X_train_ ** 2).sum(axis=1)[np.newaxis, :]  # (1, n_train)\n",
        "        return self\n",
        "\n",
        "    def _euclidean_distances(self, X):\n",
        "        \"\"\"\n",
        "        (a - b)^2 = a^2 + b^2 - 2ab 공식을 이용해\n",
        "        한 번에 모든 거리 행렬을 구하는 벡터화 구현.\n",
        "\n",
        "        Parameters\n",
        "        ----------\n",
        "        X : array-like, shape (n_queries, n_features)\n",
        "\n",
        "        Returns\n",
        "        -------\n",
        "        dists : ndarray, shape (n_queries, n_train)\n",
        "            X의 각 샘플과 학습 데이터 간의 거리\n",
        "        \"\"\"\n",
        "        X = np.asarray(X)\n",
        "        # ||a||^2, ||b||^2, -2a·b 내적을 분리 계산\n",
        "        X2 = (X ** 2).sum(axis=1)[:, np.newaxis]           # (n_queries, 1)\n",
        "        train2 = (self.X_train_ ** 2).sum(axis=1)[np.newaxis, :]  # (1, n_train)\n",
        "        cross = X @ self.X_train_.T                        # (n_queries, n_train)\n",
        "\n",
        "        dists_squared = X2 + self._x_train2 - 2.0 * cross\n",
        "        # 수치 오차로 음수가 나올 가능성 방지\n",
        "        return np.sqrt(np.maximum(dists_squared, 0.0))\n",
        "\n",
        "    # --------------------------------------------------------------------- #\n",
        "    # 예측 단계\n",
        "    # --------------------------------------------------------------------- #\n",
        "    def predict(self, X):\n",
        "        \"\"\"\n",
        "        다수결 투표로 클래스 예측.\n",
        "\n",
        "        Parameters\n",
        "        ----------\n",
        "        X : array-like, shape (n_queries, n_features)\n",
        "\n",
        "        Returns\n",
        "        -------\n",
        "        preds : ndarray, shape (n_queries,)\n",
        "            예측된 레이블\n",
        "        \"\"\"\n",
        "        if not self._fitted:\n",
        "            raise RuntimeError(\"먼저 fit()을 호출해야 합니다.\")\n",
        "\n",
        "        # 1) 모든 거리 계산\n",
        "        dists = self._euclidean_distances(X)\n",
        "\n",
        "        # 2) 각 행(질의 샘플)에서 거리가 가장 작은 k개 인덱스 추출\n",
        "        neighbor_idx = np.argsort(dists, axis=1)[:, : self.k]      # (n_queries, k)\n",
        "\n",
        "        # 3) 이웃의 레이블 수집\n",
        "        neighbor_labels = self.y_train_[neighbor_idx]              # (n_queries, k)\n",
        "\n",
        "        # 4) 행마다 최빈값(다수결) 계산\n",
        "        preds = []\n",
        "        for row in neighbor_labels:\n",
        "            labels, counts = np.unique(row, return_counts=True)\n",
        "            preds.append(labels[counts.argmax()])\n",
        "        return np.array(preds)\n",
        "\n",
        "    def _my_euclidean_distance(self, x1, x2):\n",
        "        \"\"\"\n",
        "        내가 짠 euclidean_distance\n",
        "        \"\"\"\n",
        "        square_sum = np.sum(np.square(x1 - x2))\n",
        "        return np.sqrt(square_sum)\n",
        "\n",
        "    # --------------------------------------------------------------------- #\n",
        "    # 내가 짠 예측 코드\n",
        "    # --------------------------------------------------------------------- #\n",
        "    def my_predict(self, X):\n",
        "        \"\"\"\n",
        "        다수결 투표로 클래스 예측.\n",
        "\n",
        "        Parameters\n",
        "        ----------\n",
        "        X : array-like, shape (n_queries, n_features)\n",
        "\n",
        "        Returns\n",
        "        -------\n",
        "        preds : ndarray, shape (n_queries,)\n",
        "            예측된 레이블\n",
        "        \"\"\"\n",
        "        if not self._fitted:\n",
        "            raise RuntimeError(\"먼저 fit()을 호출해야 합니다.\")\n",
        "\n",
        "        # 1. X와 X_train_ 데이터와의 거리 계산\n",
        "        preds = []\n",
        "        for x in X:\n",
        "            pq = PriorityQueue(maxsize=self.k)\n",
        "            for _x_train, _y_train in zip(self.X_train_, self.y_train_):\n",
        "                distance = self._my_euclidean_distance(x, _x_train)\n",
        "                component = (-distance, _y_train)\n",
        "\n",
        "                if pq.full():\n",
        "                    if -pq.queue[0][0] > distance:\n",
        "                        pq.get()\n",
        "                        pq.put(component)\n",
        "                else:\n",
        "                    pq.put(component)\n",
        "\n",
        "            votes = defaultdict(int)\n",
        "            for rev_dist, label in pq.queue:\n",
        "                votes[label] += 1\n",
        "\n",
        "                if votes[label] > self.k / 2:\n",
        "                    break\n",
        "\n",
        "            sorted_votes = sorted(votes.items(), key=lambda x: x[1], reverse=True)\n",
        "            pred = sorted_votes[0][0]\n",
        "            preds.append(pred)\n",
        "\n",
        "        return np.array(preds)"
      ]
    },
    {
      "cell_type": "code",
      "source": [
        "# get iris dataset\n",
        "from sklearn.datasets import load_iris\n",
        "from sklearn.model_selection import train_test_split\n",
        "\n",
        "\n",
        "iris = load_iris()\n",
        "\n",
        "label_size = len(np.unique(iris['target']))\n",
        "\n",
        "X_train, X_test, y_train, y_test = train_test_split(iris['data'], iris['target'], test_size=0.2, random_state=42)"
      ],
      "metadata": {
        "id": "QEFxqhwQAqAv"
      },
      "execution_count": 133,
      "outputs": []
    },
    {
      "cell_type": "code",
      "source": [
        "y_test[-1] = 1"
      ],
      "metadata": {
        "id": "oshmMD1yODPh"
      },
      "execution_count": 134,
      "outputs": []
    },
    {
      "cell_type": "code",
      "source": [
        "clf = SimpleKNNClassifier(n_neighbors=3)\n",
        "\n",
        "clf.fit(X_train, y_train)"
      ],
      "metadata": {
        "colab": {
          "base_uri": "https://localhost:8080/"
        },
        "id": "A-qAoQuCA6TT",
        "outputId": "9ee1b668-6854-4ddf-a758-69f01621870f"
      },
      "execution_count": 135,
      "outputs": [
        {
          "output_type": "execute_result",
          "data": {
            "text/plain": [
              "<__main__.SimpleKNNClassifier at 0x7e7b6e819d00>"
            ]
          },
          "metadata": {},
          "execution_count": 135
        }
      ]
    },
    {
      "cell_type": "code",
      "source": [
        "from time import time\n",
        "\n",
        "start = time()\n",
        "preds = clf.predict(X_test)\n",
        "end = time()\n",
        "\n",
        "print(f\"time: {end - start}\")"
      ],
      "metadata": {
        "colab": {
          "base_uri": "https://localhost:8080/"
        },
        "id": "j85FQs1YBNCI",
        "outputId": "ee2ac215-ac35-47ab-e03a-e5eaacd61b07"
      },
      "execution_count": 136,
      "outputs": [
        {
          "output_type": "stream",
          "name": "stdout",
          "text": [
            "time: 0.003069162368774414\n"
          ]
        }
      ]
    },
    {
      "cell_type": "code",
      "source": [
        "start = time()\n",
        "my_preds = clf.my_predict(X_test)\n",
        "end = time()\n",
        "\n",
        "print(f\"time: {end - start}\")"
      ],
      "metadata": {
        "colab": {
          "base_uri": "https://localhost:8080/"
        },
        "id": "CrR0mhXHMxnL",
        "outputId": "7ea48a09-eabb-4202-ddba-24be274b8b0b"
      },
      "execution_count": 137,
      "outputs": [
        {
          "output_type": "stream",
          "name": "stdout",
          "text": [
            "time: 0.06311249732971191\n"
          ]
        }
      ]
    },
    {
      "cell_type": "code",
      "source": [
        "def get_confusion_matrix(preds, y_test, label_size):\n",
        "    confusion_matrix = np.zeros((label_size, label_size))\n",
        "    for pred, label in zip(preds, y_test):\n",
        "        confusion_matrix[pred, label] += 1\n",
        "\n",
        "    return confusion_matrix"
      ],
      "metadata": {
        "id": "Ii5u5ikRBaDY"
      },
      "execution_count": 138,
      "outputs": []
    },
    {
      "cell_type": "code",
      "source": [
        "def print_score(confusion_matrix):\n",
        "    precision_0 = confusion_matrix[0, 0] / np.sum(confusion_matrix[:, 0])\n",
        "    precision_1 = confusion_matrix[1, 1] / np.sum(confusion_matrix[:, 1])\n",
        "    precision_2 = confusion_matrix[2, 2] / np.sum(confusion_matrix[:, 2])\n",
        "\n",
        "    recall_0 = confusion_matrix[0, 0] / np.sum(confusion_matrix[0, :])\n",
        "    recall_1 = confusion_matrix[1, 1] / np.sum(confusion_matrix[1, :])\n",
        "    recall_2 = confusion_matrix[2, 2] / np.sum(confusion_matrix[2, :])\n",
        "\n",
        "    f1_score_0 = 2 * precision_0 * recall_0 / (precision_0 + recall_0)\n",
        "    f1_score_1 = 2 * precision_1 * recall_1 / (precision_1 + recall_1)\n",
        "    f1_score_2 = 2 * precision_2 * recall_2 / (precision_2 + recall_2)\n",
        "\n",
        "    accuracy_score = np.sum(np.diag(confusion_matrix)) / np.sum(confusion_matrix)\n",
        "\n",
        "    print(f\"precision_0: {precision_0}\")\n",
        "    print(f\"precision_1: {precision_1}\")\n",
        "    print(f\"precision_2: {precision_2}\")\n",
        "\n",
        "    print(f\"recall_0: {recall_0}\")\n",
        "    print(f\"recall_1: {recall_1}\")\n",
        "    print(f\"recall_2: {recall_2}\")\n",
        "\n",
        "    print(f\"f1_score_0: {f1_score_0}\")\n",
        "    print(f\"f1_score_1: {f1_score_1}\")\n",
        "    print(f\"f1_score_2: {f1_score_2}\")\n",
        "\n",
        "    print(f\"accuracy: {accuracy_score}\")"
      ],
      "metadata": {
        "id": "LANekNwXIsOt"
      },
      "execution_count": 139,
      "outputs": []
    },
    {
      "cell_type": "code",
      "source": [
        "from sklearn.neighbors import KNeighborsClassifier\n",
        "\n",
        "sk_clf = KNeighborsClassifier(n_neighbors=3)\n",
        "sk_clf.fit(X_train, y_train)\n",
        "\n",
        "start = time()\n",
        "sk_preds = sk_clf.predict(X_test)\n",
        "end = time()\n",
        "\n",
        "print(f\"time: {end - start}\")"
      ],
      "metadata": {
        "colab": {
          "base_uri": "https://localhost:8080/"
        },
        "id": "IIUjmj1IKnX6",
        "outputId": "07d6b56d-076e-42f6-b7bc-445e9a2b5737"
      },
      "execution_count": 140,
      "outputs": [
        {
          "output_type": "stream",
          "name": "stdout",
          "text": [
            "time: 0.00274658203125\n"
          ]
        }
      ]
    },
    {
      "cell_type": "code",
      "source": [
        "clf_matrix = get_confusion_matrix(preds, y_test, label_size)\n",
        "print_score(clf_matrix)"
      ],
      "metadata": {
        "colab": {
          "base_uri": "https://localhost:8080/"
        },
        "id": "NM6CeLz1Ny1z",
        "outputId": "42f5c7e1-1d7e-418e-f024-32c5beec6e85"
      },
      "execution_count": 141,
      "outputs": [
        {
          "output_type": "stream",
          "name": "stdout",
          "text": [
            "precision_0: 1.0\n",
            "precision_1: 0.9\n",
            "precision_2: 1.0\n",
            "recall_0: 0.9\n",
            "recall_1: 1.0\n",
            "recall_2: 1.0\n",
            "f1_score_0: 0.9473684210526316\n",
            "f1_score_1: 0.9473684210526316\n",
            "f1_score_2: 1.0\n",
            "accuracy: 0.9666666666666667\n"
          ]
        }
      ]
    },
    {
      "cell_type": "code",
      "source": [
        "my_clf_matrix = get_confusion_matrix(my_preds, y_test, label_size)\n",
        "print_score(my_clf_matrix)"
      ],
      "metadata": {
        "colab": {
          "base_uri": "https://localhost:8080/"
        },
        "id": "58ysLu44N4c4",
        "outputId": "c8aeaafc-78db-44d1-9ad1-35d813f0592c"
      },
      "execution_count": 142,
      "outputs": [
        {
          "output_type": "stream",
          "name": "stdout",
          "text": [
            "precision_0: 1.0\n",
            "precision_1: 0.9\n",
            "precision_2: 1.0\n",
            "recall_0: 0.9\n",
            "recall_1: 1.0\n",
            "recall_2: 1.0\n",
            "f1_score_0: 0.9473684210526316\n",
            "f1_score_1: 0.9473684210526316\n",
            "f1_score_2: 1.0\n",
            "accuracy: 0.9666666666666667\n"
          ]
        }
      ]
    },
    {
      "cell_type": "code",
      "source": [
        "sk_clf_matrix = get_confusion_matrix(sk_preds, y_test, label_size)\n",
        "print_score(sk_clf_matrix)"
      ],
      "metadata": {
        "colab": {
          "base_uri": "https://localhost:8080/"
        },
        "id": "TLlgSFAtN7ZR",
        "outputId": "a2bd359a-275a-4681-d098-200615f62eff"
      },
      "execution_count": 143,
      "outputs": [
        {
          "output_type": "stream",
          "name": "stdout",
          "text": [
            "precision_0: 1.0\n",
            "precision_1: 0.9\n",
            "precision_2: 1.0\n",
            "recall_0: 0.9\n",
            "recall_1: 1.0\n",
            "recall_2: 1.0\n",
            "f1_score_0: 0.9473684210526316\n",
            "f1_score_1: 0.9473684210526316\n",
            "f1_score_2: 1.0\n",
            "accuracy: 0.9666666666666667\n"
          ]
        }
      ]
    },
    {
      "cell_type": "code",
      "source": [],
      "metadata": {
        "id": "Z1gCdUccN9Bo"
      },
      "execution_count": null,
      "outputs": []
    }
  ]
}